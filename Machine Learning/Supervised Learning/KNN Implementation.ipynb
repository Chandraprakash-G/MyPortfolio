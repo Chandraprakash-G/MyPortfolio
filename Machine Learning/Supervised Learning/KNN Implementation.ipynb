{
 "cells": [
  {
   "cell_type": "markdown",
   "id": "19eef31f",
   "metadata": {},
   "source": [
    "# KNN Algorithm"
   ]
  },
  {
   "cell_type": "code",
   "execution_count": 4,
   "id": "ff664e0f",
   "metadata": {
    "ExecuteTime": {
     "end_time": "2024-03-05T03:38:29.530008Z",
     "start_time": "2024-03-05T03:38:27.392643Z"
    }
   },
   "outputs": [
    {
     "name": "stderr",
     "output_type": "stream",
     "text": [
      "Downloading...\n",
      "From: https://drive.google.com/uc?id=1ZdhRqYv-JizWV6DxO6C4R_k1kxPhmlF2\n",
      "To: C:\\Users\\chami\\OneDrive\\Desktop\\Portfolio\\MyPortfolio\\Machine Learning\\Supervised Learning\\multiclass.csv\n",
      "\n",
      "  0%|          | 0.00/14.6k [00:00<?, ?B/s]\n",
      "100%|##########| 14.6k/14.6k [00:00<?, ?B/s]\n"
     ]
    }
   ],
   "source": [
    "import pandas as pd\n",
    "import numpy as np\n",
    "\n",
    "!gdown 1ZdhRqYv-JizWV6DxO6C4R_k1kxPhmlF2"
   ]
  },
  {
   "cell_type": "code",
   "execution_count": 5,
   "id": "ab141bc8",
   "metadata": {
    "ExecuteTime": {
     "end_time": "2024-03-05T03:40:22.812211Z",
     "start_time": "2024-03-05T03:40:22.702080Z"
    }
   },
   "outputs": [
    {
     "data": {
      "text/html": [
       "<div>\n",
       "<style scoped>\n",
       "    .dataframe tbody tr th:only-of-type {\n",
       "        vertical-align: middle;\n",
       "    }\n",
       "\n",
       "    .dataframe tbody tr th {\n",
       "        vertical-align: top;\n",
       "    }\n",
       "\n",
       "    .dataframe thead th {\n",
       "        text-align: right;\n",
       "    }\n",
       "</style>\n",
       "<table border=\"1\" class=\"dataframe\">\n",
       "  <thead>\n",
       "    <tr style=\"text-align: right;\">\n",
       "      <th></th>\n",
       "      <th>Region</th>\n",
       "      <th>Fresh</th>\n",
       "      <th>Milk</th>\n",
       "      <th>Grocery</th>\n",
       "      <th>Frozen</th>\n",
       "      <th>Detergents_Paper</th>\n",
       "      <th>Delicassen</th>\n",
       "      <th>class</th>\n",
       "    </tr>\n",
       "  </thead>\n",
       "  <tbody>\n",
       "    <tr>\n",
       "      <th>0</th>\n",
       "      <td>3</td>\n",
       "      <td>12669</td>\n",
       "      <td>9656</td>\n",
       "      <td>7561</td>\n",
       "      <td>214</td>\n",
       "      <td>2674</td>\n",
       "      <td>1338</td>\n",
       "      <td>2</td>\n",
       "    </tr>\n",
       "    <tr>\n",
       "      <th>1</th>\n",
       "      <td>3</td>\n",
       "      <td>7057</td>\n",
       "      <td>9810</td>\n",
       "      <td>9568</td>\n",
       "      <td>1762</td>\n",
       "      <td>3293</td>\n",
       "      <td>1776</td>\n",
       "      <td>2</td>\n",
       "    </tr>\n",
       "    <tr>\n",
       "      <th>2</th>\n",
       "      <td>3</td>\n",
       "      <td>6353</td>\n",
       "      <td>8808</td>\n",
       "      <td>7684</td>\n",
       "      <td>2405</td>\n",
       "      <td>3516</td>\n",
       "      <td>7844</td>\n",
       "      <td>2</td>\n",
       "    </tr>\n",
       "    <tr>\n",
       "      <th>3</th>\n",
       "      <td>3</td>\n",
       "      <td>13265</td>\n",
       "      <td>1196</td>\n",
       "      <td>4221</td>\n",
       "      <td>6404</td>\n",
       "      <td>507</td>\n",
       "      <td>1788</td>\n",
       "      <td>1</td>\n",
       "    </tr>\n",
       "    <tr>\n",
       "      <th>4</th>\n",
       "      <td>3</td>\n",
       "      <td>22615</td>\n",
       "      <td>5410</td>\n",
       "      <td>7198</td>\n",
       "      <td>3915</td>\n",
       "      <td>1777</td>\n",
       "      <td>5185</td>\n",
       "      <td>1</td>\n",
       "    </tr>\n",
       "  </tbody>\n",
       "</table>\n",
       "</div>"
      ],
      "text/plain": [
       "   Region  Fresh  Milk  Grocery  Frozen  Detergents_Paper  Delicassen  class\n",
       "0       3  12669  9656     7561     214              2674        1338      2\n",
       "1       3   7057  9810     9568    1762              3293        1776      2\n",
       "2       3   6353  8808     7684    2405              3516        7844      2\n",
       "3       3  13265  1196     4221    6404               507        1788      1\n",
       "4       3  22615  5410     7198    3915              1777        5185      1"
      ]
     },
     "execution_count": 5,
     "metadata": {},
     "output_type": "execute_result"
    }
   ],
   "source": [
    "df=pd.read_csv('multiclass.csv')\n",
    "df.head()"
   ]
  },
  {
   "cell_type": "markdown",
   "id": "93fb08ec",
   "metadata": {},
   "source": [
    "Data Description\n",
    "\n",
    "feature Description Region where the store is located (1: Tier-1 city, 2: Tier-2 city, 3:Tier-3 city) Fresh Fresh food products delivery count Milk milk products delivery count Grocery Grocery products delivery count Frozen Frozen food products delivery count Detergents_Paper washing products delivery count Delicassen imported products, cooked meat delivery count class Store catgeory (Class1, Class2, Class3)\n",
    "\n",
    "Class1 : High Traffic (Needs a high number of delivery partners)\n",
    "Class2 : Moderate Traffic (Needs a decent number of delivery partners)\n",
    "Class3 : Low Traffic (Needs a very small number of delivery partners)"
   ]
  },
  {
   "cell_type": "code",
   "execution_count": 6,
   "id": "51cc7b98",
   "metadata": {
    "ExecuteTime": {
     "end_time": "2024-03-05T03:41:25.620078Z",
     "start_time": "2024-03-05T03:41:16.925878Z"
    }
   },
   "outputs": [
    {
     "data": {
      "image/png": "[encoded data removed]",
      "text/plain": [
       "<Figure size 640x480 with 1 Axes>"
      ]
     },
     "metadata": {},
     "output_type": "display_data"
    }
   ],
   "source": [
    "import seaborn as sns\n",
    "import matplotlib.pyplot as plt\n",
    "\n",
    "sns.histplot(data=df, x=\"class\")\n",
    "plt.title('Data Distribution')\n",
    "plt.show()\n",
    "#Class 1 is imbalanced"
   ]
  },
  {
   "cell_type": "code",
   "execution_count": 8,
   "id": "f8ff644e",
   "metadata": {
    "ExecuteTime": {
     "end_time": "2024-03-05T03:44:29.392187Z",
     "start_time": "2024-03-05T03:44:29.360958Z"
    }
   },
   "outputs": [],
   "source": [
    "X=df[['Region', 'Fresh',    'Milk', 'Grocery',  'Frozen',   'Detergents_Paper', 'Delicassen'    ]]\n",
    "y=df[['class']]"
   ]
  },
  {
   "cell_type": "code",
   "execution_count": 12,
   "id": "9bedcf56",
   "metadata": {
    "ExecuteTime": {
     "end_time": "2024-03-05T03:45:30.267810Z",
     "start_time": "2024-03-05T03:45:28.163076Z"
    }
   },
   "outputs": [],
   "source": [
    "#Applying Principal Component analysis to visualize Data\n",
    "from sklearn.decomposition import PCA\n",
    "import matplotlib.pyplot as plt"
   ]
  },
  {
   "cell_type": "code",
   "execution_count": 13,
   "id": "635e7672",
   "metadata": {
    "ExecuteTime": {
     "end_time": "2024-03-05T03:45:42.081777Z",
     "start_time": "2024-03-05T03:45:42.014144Z"
    }
   },
   "outputs": [],
   "source": [
    "# reducing features to just 2 features for visualization purpose\n",
    "pca = PCA(n_components=2)\n",
    "visualize = pca.fit_transform(X)"
   ]
  },
  {
   "cell_type": "code",
   "execution_count": 49,
   "id": "035ec344",
   "metadata": {
    "ExecuteTime": {
     "end_time": "2024-03-05T03:59:20.893334Z",
     "start_time": "2024-03-05T03:59:20.861569Z"
    }
   },
   "outputs": [],
   "source": [
    "def scatter_visualize(visualize1,y_label):\n",
    "  scatter = plt.scatter(visualize1[:,0] ,visualize1[:,1],c = y_label )\n",
    "  plt.legend(handles=scatter.legend_elements()[0],labels=['Class1','Class2','Class3'])\n",
    "  plt.show()"
   ]
  },
  {
   "cell_type": "code",
   "execution_count": 50,
   "id": "e95b26d3",
   "metadata": {
    "ExecuteTime": {
     "end_time": "2024-03-05T03:59:23.486509Z",
     "start_time": "2024-03-05T03:59:23.014994Z"
    }
   },
   "outputs": [
    {
     "data": {
      "image/png": "[encoded data removed]",
      "text/plain": [
       "<Figure size 640x480 with 1 Axes>"
      ]
     },
     "metadata": {},
     "output_type": "display_data"
    }
   ],
   "source": [
    "scatter_visualize(visualize,y.values[:,0])"
   ]
  },
  {
   "cell_type": "markdown",
   "id": "8b14728a",
   "metadata": {},
   "source": [
    "## KNN Implementation"
   ]
  },
  {
   "cell_type": "code",
   "execution_count": 51,
   "id": "e84d38f9",
   "metadata": {
    "ExecuteTime": {
     "end_time": "2024-03-05T04:00:29.159219Z",
     "start_time": "2024-03-05T04:00:29.118399Z"
    }
   },
   "outputs": [
    {
     "name": "stdout",
     "output_type": "stream",
     "text": [
      "(247, 7) (247, 1)\n",
      "(83, 7) (83, 1)\n",
      "(110, 7) (110, 1)\n"
     ]
    }
   ],
   "source": [
    "from sklearn.model_selection import train_test_split\n",
    "\n",
    "X_train_val, X_test, y_train_val, y_test = train_test_split(X,y,test_size=0.25, random_state=42)\n",
    "X_train, X_val, y_train, y_val = train_test_split(X_train_val,y_train_val,test_size=0.25, random_state=42)\n",
    "\n",
    "print(X_train.shape, y_train.shape)\n",
    "print(X_val.shape, y_val.shape)\n",
    "print(X_test.shape, y_test.shape)"
   ]
  },
  {
   "cell_type": "code",
   "execution_count": 52,
   "id": "c96780ae",
   "metadata": {
    "ExecuteTime": {
     "end_time": "2024-03-05T04:00:45.415827Z",
     "start_time": "2024-03-05T04:00:45.367811Z"
    }
   },
   "outputs": [
    {
     "data": {
      "text/plain": [
       "class\n",
       "3        99\n",
       "2        95\n",
       "1        53\n",
       "Name: count, dtype: int64"
      ]
     },
     "execution_count": 52,
     "metadata": {},
     "output_type": "execute_result"
    }
   ],
   "source": [
    "y_train.value_counts()\n",
    "#Data is imbalanced for class 1 "
   ]
  },
  {
   "cell_type": "code",
   "execution_count": 55,
   "id": "1f8b3046",
   "metadata": {
    "ExecuteTime": {
     "end_time": "2024-03-05T04:02:41.471786Z",
     "start_time": "2024-03-05T04:02:40.196059Z"
    }
   },
   "outputs": [
    {
     "data": {
      "text/plain": [
       "class\n",
       "1        99\n",
       "2        99\n",
       "3        99\n",
       "Name: count, dtype: int64"
      ]
     },
     "execution_count": 55,
     "metadata": {},
     "output_type": "execute_result"
    }
   ],
   "source": [
    "#Balancing Data\n",
    "from imblearn.over_sampling import SMOTE\n",
    "# Create an instance of SMOTE\n",
    "smt = SMOTE()\n",
    "X_sm, y_sm = smt.fit_resample(X_train, y_train)\n",
    "y_sm.value_counts()"
   ]
  },
  {
   "cell_type": "code",
   "execution_count": null,
   "id": "c5b82a8a",
   "metadata": {},
   "outputs": [],
   "source": [
    "#standardizing Data \n",
    "from sklearn.preprocessing import StandardScaler\n",
    "st =  StandardScaler()\n",
    "X_sm = st.fit_transform(X_sm.values)\n",
    "X_val_scaled = st.transform(X_val.values)\n",
    "X_test_scaled = st.transform(X_test.values)"
   ]
  },
  {
   "cell_type": "code",
   "execution_count": 56,
   "id": "8a2510da",
   "metadata": {
    "ExecuteTime": {
     "end_time": "2024-03-05T04:07:45.829179Z",
     "start_time": "2024-03-05T04:07:45.798262Z"
    }
   },
   "outputs": [],
   "source": [
    "#KNN implementation\n",
    "def knn(X,Y,queryPoint,k):\n",
    "    \"\"\"Predict the class label for the query point\"\"\"\n",
    "    # Euclidean Distance\n",
    "    dist = np.sqrt(np.sum((queryPoint-X)**2,axis=1) )\n",
    "\n",
    "    # Storing distance and Class labels together\n",
    "    distances = [(dist[i],Y[i]) for i in range(len(dist)) ]\n",
    "    # sort the distances\n",
    "    distances = sorted(distances)\n",
    "    # Nearest/First K points\n",
    "    distances = distances[:k]\n",
    "\n",
    "    distances = np.array(distances)\n",
    "\n",
    "    classes_counts = np.unique(distances[:,1],return_counts=True)\n",
    "\n",
    "    index = classes_counts[1].argmax()\n",
    "    pred = classes_counts[0][index]\n",
    "\n",
    "    return int(pred),distances"
   ]
  }
 ],
 "metadata": {
  "kernelspec": {
   "display_name": "Python 3 (ipykernel)",
   "language": "python",
   "name": "python3"
  },
  "language_info": {
   "codemirror_mode": {
    "name": "ipython",
    "version": 3
   },
   "file_extension": ".py",
   "mimetype": "text/x-python",
   "name": "python",
   "nbconvert_exporter": "python",
   "pygments_lexer": "ipython3",
   "version": "3.10.6"
  },
  "toc": {
   "base_numbering": 1,
   "nav_menu": {},
   "number_sections": true,
   "sideBar": true,
   "skip_h1_title": false,
   "title_cell": "Table of Contents",
   "title_sidebar": "Contents",
   "toc_cell": false,
   "toc_position": {},
   "toc_section_display": true,
   "toc_window_display": false
  }
 },
 "nbformat": 4,
 "nbformat_minor": 5
}
